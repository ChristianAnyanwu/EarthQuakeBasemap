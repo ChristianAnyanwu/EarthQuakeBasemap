{
 "cells": [
  {
   "cell_type": "markdown",
   "metadata": {},
   "source": [
    "# Mapping world EarthQuakes and Large Cities\n",
    "\n",
    "Mapping the worlds most recent earthquakes found out:  http://earthquake.usgs.gov/earthquakes/feed/\n",
    "<br>\n",
    "Credit:\n",
    "This is an extension of user dannguyens repository found here:  https://gist.github.com/dannguyen/eb1c4e70565d8cb82d63"
   ]
  },
  {
   "cell_type": "markdown",
   "metadata": {},
   "source": [
    "## Importing the most recent EarthQuake Data"
   ]
  },
  {
   "cell_type": "code",
   "execution_count": 24,
   "metadata": {},
   "outputs": [
    {
     "name": "stdout",
     "output_type": "stream",
     "text": [
      "Downloading http://earthquake.usgs.gov/earthquakes/feed/v1.0/summary/4.5_month.csv\n"
     ]
    }
   ],
   "source": [
    "import requests\n",
    "from csv import DictReader\n",
    "\n",
    "DATA_URL = 'http://earthquake.usgs.gov/earthquakes/feed/v1.0/summary/4.5_month.csv'\n",
    "print(\"Downloading\", DATA_URL)\n",
    "resp = requests.get(DATA_URL)\n",
    "\n",
    "quakes = list(DictReader(resp.text.splitlines()))\n",
    "# ...avoiding numpy/pandas Array() for now, and can't care enough to do this less awkwardly...\n",
    "qLngs = [float(q['longitude']) for q in quakes]\n",
    "qLats = [float(q['latitude']) for q in quakes]\n",
    "qMags = [2 ** float(q['mag']) for q in quakes]"
   ]
  },
  {
   "cell_type": "markdown",
   "metadata": {},
   "source": [
    "## Importing top 1000 Cities info"
   ]
  },
  {
   "cell_type": "code",
   "execution_count": 38,
   "metadata": {},
   "outputs": [
    {
     "name": "stdout",
     "output_type": "stream",
     "text": [
      "Downloading https://raw.githubusercontent.com/lutangar/cities.json/master/cities.json\n"
     ]
    }
   ],
   "source": [
    "import json\n",
    "\n",
    "CITIES_DATA_URL = 'https://raw.githubusercontent.com/lutangar/cities.json/master/cities.json'\n",
    "print(\"Downloading\", CITIES_DATA_URL)\n",
    "resp = requests.get(CITIES_DATA_URL)\n",
    "\n",
    "cities = json.loads(resp.text)\n",
    "cLngs = [float(c['lng']) for c in cities]\n",
    "cLats = [float(c['lat']) for c in cities]\n",
    "#cPop = [float(c['population'])/100000 for c in cities]\n",
    "\n"
   ]
  },
  {
   "cell_type": "markdown",
   "metadata": {},
   "source": [
    "## Plotting data"
   ]
  },
  {
   "cell_type": "code",
   "execution_count": 42,
   "metadata": {},
   "outputs": [],
   "source": [
    "import matplotlib.pyplot as plt\n",
    "from mpl_toolkits.basemap import Basemap\n",
    "\n",
    "plt.figure(figsize=(14, 8))\n",
    "\n",
    "earth = Basemap()\n",
    "earth.bluemarble(alpha=0.42)\n",
    "earth.drawcoastlines(color='#555566', linewidth=1)\n",
    "\n",
    "plt.scatter(cLngs, cLats,1, c='blue',alpha=0.5, zorder=10)\n",
    "plt.scatter(qLngs, qLats, qMags, c='red',alpha=0.5, zorder=10)\n",
    "\n",
    "plt.xlabel(\"M4.5 earthquakes in the past 30 days\")\n",
    "plt.savefig('usgs-4.5quakes-bluemarble.png', dpi=350)"
   ]
  }
 ],
 "metadata": {
  "kernelspec": {
   "display_name": "Python 3",
   "language": "python",
   "name": "python3"
  },
  "language_info": {
   "codemirror_mode": {
    "name": "ipython",
    "version": 3
   },
   "file_extension": ".py",
   "mimetype": "text/x-python",
   "name": "python",
   "nbconvert_exporter": "python",
   "pygments_lexer": "ipython3",
   "version": "3.6.3"
  }
 },
 "nbformat": 4,
 "nbformat_minor": 2
}
